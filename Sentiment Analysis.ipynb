{
 "cells": [
  {
   "cell_type": "markdown",
   "metadata": {},
   "source": [
    "### VADER : Sentiment Analysis Module \n",
    "VADER (Valence Aware Dictionary and sEntiment Reasoner) is a lexicon and rule-based sentiment analysis tool that is specifically focussed to sentiments expressed in social media."
   ]
  },
  {
   "cell_type": "markdown",
   "metadata": {},
   "source": [
    "### The Scores depict the following \n",
    "-> Positive Sentiment {compound score >= 0.05} <br/>\n",
    "-> Neutral Sentiment  {compound score > -0.05} and {compound score < 0.05} <br/>\n",
    "-> Negative Sentiment {compound score <= -0.05} <br/>"
   ]
  },
  {
   "cell_type": "code",
   "execution_count": 1,
   "metadata": {},
   "outputs": [
    {
     "name": "stdout",
     "output_type": "stream",
     "text": [
      "Requirement already satisfied: vaderSentiment in c:\\programdata\\anaconda3\\lib\\site-packages\n"
     ]
    },
    {
     "name": "stderr",
     "output_type": "stream",
     "text": [
      "You are using pip version 9.0.1, however version 18.1 is available.\n",
      "You should consider upgrading via the 'python -m pip install --upgrade pip' command.\n"
     ]
    }
   ],
   "source": [
    "# Installation\n",
    "!pip install vaderSentiment"
   ]
  },
  {
   "cell_type": "code",
   "execution_count": 2,
   "metadata": {
    "collapsed": true
   },
   "outputs": [],
   "source": [
    "from vaderSentiment.vaderSentiment import SentimentIntensityAnalyzer"
   ]
  },
  {
   "cell_type": "code",
   "execution_count": 3,
   "metadata": {
    "collapsed": true
   },
   "outputs": [],
   "source": [
    "analyser = SentimentIntensityAnalyzer()"
   ]
  },
  {
   "cell_type": "code",
   "execution_count": 4,
   "metadata": {
    "collapsed": true
   },
   "outputs": [],
   "source": [
    "# Function to determine Sentiment Scores\n",
    "def sentiment_scores(sentence):\n",
    "    sentiment_score = analyser.polarity_scores(sentence)\n",
    "    print(\"{:-<50} {}\".format(sentence, str(sentiment_score)))"
   ]
  },
  {
   "cell_type": "code",
   "execution_count": 5,
   "metadata": {},
   "outputs": [
    {
     "name": "stdout",
     "output_type": "stream",
     "text": [
      "The film is good---------------------------------- {'neg': 0.0, 'neu': 0.508, 'pos': 0.492, 'compound': 0.4404}\n",
      "The  film is poor--------------------------------- {'neg': 0.508, 'neu': 0.492, 'pos': 0.0, 'compound': -0.4767}\n"
     ]
    }
   ],
   "source": [
    "# Normal Sentences\n",
    "sentiment_scores(\"The film is good\")\n",
    "sentiment_scores(\"The  film is poor\")"
   ]
  },
  {
   "cell_type": "code",
   "execution_count": 6,
   "metadata": {},
   "outputs": [
    {
     "name": "stdout",
     "output_type": "stream",
     "text": [
      "The film is good!--------------------------------- {'neg': 0.0, 'neu': 0.484, 'pos': 0.516, 'compound': 0.4926}\n",
      "The film is good!!-------------------------------- {'neg': 0.0, 'neu': 0.463, 'pos': 0.537, 'compound': 0.5399}\n"
     ]
    }
   ],
   "source": [
    "# Sentences with exclamation\n",
    "sentiment_scores(\"The film is good!\")\n",
    "sentiment_scores(\"The film is good!!\")"
   ]
  },
  {
   "cell_type": "code",
   "execution_count": 7,
   "metadata": {},
   "outputs": [
    {
     "name": "stdout",
     "output_type": "stream",
     "text": [
      "Iam :)-------------------------------------------- {'neg': 0.0, 'neu': 0.25, 'pos': 0.75, 'compound': 0.4588}\n",
      "Iam :(-------------------------------------------- {'neg': 0.744, 'neu': 0.256, 'pos': 0.0, 'compound': -0.4404}\n"
     ]
    }
   ],
   "source": [
    "# Scores of sentences with keyboard emoticons\n",
    "sentiment_scores(\"Iam :)\")\n",
    "sentiment_scores(\"Iam :(\")"
   ]
  },
  {
   "cell_type": "code",
   "execution_count": 8,
   "metadata": {},
   "outputs": [
    {
     "name": "stdout",
     "output_type": "stream",
     "text": [
      "Today SUX----------------------------------------- {'neg': 0.764, 'neu': 0.236, 'pos': 0.0, 'compound': -0.4995}\n"
     ]
    }
   ],
   "source": [
    "# Social Media Slangs\n",
    "sentiment_scores(\"Today SUX\")"
   ]
  },
  {
   "cell_type": "code",
   "execution_count": 9,
   "metadata": {},
   "outputs": [
    {
     "name": "stdout",
     "output_type": "stream",
     "text": [
      "The food was Gr8---------------------------------- {'neg': 0.0, 'neu': 0.448, 'pos': 0.552, 'compound': 0.5719}\n",
      "The food was Gr8 but the ambience and service not so good {'neg': 0.247, 'neu': 0.61, 'pos': 0.143, 'compound': -0.4005}\n"
     ]
    }
   ],
   "source": [
    "# Compound Statements\n",
    "sentiment_scores(\"The food was Gr8\")\n",
    "sentiment_scores(\"The food was Gr8 but the ambience and service not so good\")"
   ]
  },
  {
   "cell_type": "code",
   "execution_count": 10,
   "metadata": {},
   "outputs": [
    {
     "name": "stdout",
     "output_type": "stream",
     "text": [
      "He does not study but still tops the class-------- {'neg': 0.0, 'neu': 0.643, 'pos': 0.357, 'compound': 0.6652}\n",
      "He tops the class but does not study-------------- {'neg': 0.0, 'neu': 0.765, 'pos': 0.235, 'compound': 0.2846}\n"
     ]
    }
   ],
   "source": [
    "# Tricky Sentences with same lemma\n",
    "sentiment_scores(\"He does not study but still tops the class\")\n",
    "sentiment_scores(\"He tops the class but does not study\")"
   ]
  },
  {
   "cell_type": "code",
   "execution_count": 11,
   "metadata": {},
   "outputs": [
    {
     "name": "stdout",
     "output_type": "stream",
     "text": [
      "😎------------------------------------------------- {'neg': 0.0, 'neu': 0.5, 'pos': 0.5, 'compound': 0.4588}\n",
      "😢------------------------------------------------- {'neg': 0.756, 'neu': 0.244, 'pos': 0.0, 'compound': -0.4767}\n"
     ]
    }
   ],
   "source": [
    "# Social media emojis\n",
    "sentiment_scores(\"😎\")\n",
    "sentiment_scores(\"😢\")"
   ]
  },
  {
   "cell_type": "code",
   "execution_count": 12,
   "metadata": {},
   "outputs": [
    {
     "name": "stdout",
     "output_type": "stream",
     "text": [
      "Not bad at all------------------------------------ {'neg': 0.0, 'neu': 0.513, 'pos': 0.487, 'compound': 0.431}\n",
      "Not good at all----------------------------------- {'neg': 0.445, 'neu': 0.555, 'pos': 0.0, 'compound': -0.3412}\n"
     ]
    }
   ],
   "source": [
    "# Sentences with both positive and negative words\n",
    "sentiment_scores(\"Not bad at all\")\n",
    "sentiment_scores(\"Not good at all\")"
   ]
  },
  {
   "cell_type": "markdown",
   "metadata": {},
   "source": [
    "### Drawback : The growing Social Media slangs and abbreviations :("
   ]
  },
  {
   "cell_type": "code",
   "execution_count": 13,
   "metadata": {},
   "outputs": [
    {
     "name": "stdout",
     "output_type": "stream",
     "text": [
      "The film is gooood-------------------------------- {'neg': 0.0, 'neu': 1.0, 'pos': 0.0, 'compound': 0.0}\n",
      "The  film is pooor-------------------------------- {'neg': 0.0, 'neu': 1.0, 'pos': 0.0, 'compound': 0.0}\n"
     ]
    }
   ],
   "source": [
    "# These statements should either indicate high positivity or negativity but is depicted as neutral \n",
    "sentiment_scores(\"The film is gooood\")\n",
    "sentiment_scores(\"The  film is pooor\")"
   ]
  },
  {
   "cell_type": "markdown",
   "metadata": {},
   "source": [
    "### An Easy to use module and useful to go through large amounts of movie reviews , food reviews , various social media comments and tweets to harness valuable information without human effort :)"
   ]
  },
  {
   "cell_type": "code",
   "execution_count": null,
   "metadata": {
    "collapsed": true
   },
   "outputs": [],
   "source": []
  }
 ],
 "metadata": {
  "kernelspec": {
   "display_name": "Python 3",
   "language": "python",
   "name": "python3"
  },
  "language_info": {
   "codemirror_mode": {
    "name": "ipython",
    "version": 3
   },
   "file_extension": ".py",
   "mimetype": "text/x-python",
   "name": "python",
   "nbconvert_exporter": "python",
   "pygments_lexer": "ipython3",
   "version": "3.6.3"
  }
 },
 "nbformat": 4,
 "nbformat_minor": 2
}
